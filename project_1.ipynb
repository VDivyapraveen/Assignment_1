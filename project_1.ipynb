{
 "cells": [
  {
   "cell_type": "code",
   "execution_count": null,
   "id": "130920f0",
   "metadata": {},
   "outputs": [],
   "source": [
    "!pip install mysql-connector-python "
   ]
  },
  {
   "cell_type": "code",
   "execution_count": null,
   "id": "283b4b87",
   "metadata": {},
   "outputs": [],
   "source": [
    "!pip install tabulate\n"
   ]
  },
  {
   "cell_type": "code",
   "execution_count": null,
   "id": "0e12615d",
   "metadata": {},
   "outputs": [],
   "source": [
    "pip install sqlalchemy pymysql"
   ]
  },
  {
   "cell_type": "code",
   "execution_count": null,
   "id": "a986a064",
   "metadata": {},
   "outputs": [],
   "source": [
    "mycursor.execute(\"CREATE DATABASE proj_1\")"
   ]
  },
  {
   "cell_type": "code",
   "execution_count": null,
   "id": "94add2eb",
   "metadata": {},
   "outputs": [],
   "source": [
    "import pandas as pd\n"
   ]
  },
  {
   "cell_type": "code",
   "execution_count": null,
   "id": "df669107",
   "metadata": {},
   "outputs": [],
   "source": [
    "import mysql.connector"
   ]
  },
  {
   "cell_type": "code",
   "execution_count": null,
   "id": "a0b67cbb",
   "metadata": {},
   "outputs": [],
   "source": [
    "import pandas as pd\n",
    "from sqlalchemy import create_engine"
   ]
  },
  {
   "cell_type": "code",
   "execution_count": null,
   "id": "336ed6d9",
   "metadata": {},
   "outputs": [],
   "source": [
    "import json"
   ]
  },
  {
   "cell_type": "code",
   "execution_count": null,
   "id": "2e46b533",
   "metadata": {},
   "outputs": [],
   "source": [
    "mydb=mysql.connector.connect(\n",
    "    host=\"localhost\",\n",
    "    username=\"root\",\n",
    "    password=\"\",\n",
    "    port=3306\n",
    ")"
   ]
  },
  {
   "cell_type": "code",
   "execution_count": null,
   "id": "72b17001",
   "metadata": {},
   "outputs": [],
   "source": [
    "mycursor=mydb.cursor(buffered=True)"
   ]
  },
  {
   "cell_type": "code",
   "execution_count": null,
   "id": "bdbc75c2",
   "metadata": {},
   "outputs": [],
   "source": [
    "from tabulate import tabulate"
   ]
  },
  {
   "cell_type": "code",
   "execution_count": null,
   "id": "424c84f1",
   "metadata": {},
   "outputs": [],
   "source": [
    "mycursor.execute(\"USE proj_1\")"
   ]
  },
  {
   "cell_type": "code",
   "execution_count": null,
   "id": "00c3a38d",
   "metadata": {},
   "outputs": [],
   "source": [
    "username = 'root'\n",
    "password = 'your_password'\n",
    "host = 'localhost'\n",
    "port = 3306\n",
    "database = 'proj_1'\n",
    "\n",
    "engine = create_engine('mysql+pymysql://root@localhost/proj_1')\n"
   ]
  },
  {
   "cell_type": "code",
   "execution_count": null,
   "id": "2d359f7d",
   "metadata": {},
   "outputs": [],
   "source": [
    "import requests\n",
    "\n",
    "url = \"https://api.sportradar.com/tennis/trial/v3/en/competitions.json?api_key=F9HPG6aTDbVhgSSPpmNfkY5tLzKwOAdbcjU9u23T\"\n",
    "\n",
    "headers = {\"accept\": \"application/json\"}\n",
    "\n",
    "response = requests.get(url, headers=headers)\n",
    "\n",
    "print(response.text)"
   ]
  },
  {
   "cell_type": "code",
   "execution_count": null,
   "id": "c57e8e93",
   "metadata": {},
   "outputs": [],
   "source": [
    "data=json.loads(response.text)"
   ]
  },
  {
   "cell_type": "code",
   "execution_count": null,
   "id": "8f73396a",
   "metadata": {},
   "outputs": [],
   "source": [
    "data"
   ]
  },
  {
   "cell_type": "code",
   "execution_count": null,
   "id": "2e620c30",
   "metadata": {},
   "outputs": [],
   "source": [
    "competitions=data[\"competitions\"]\n",
    "competitions"
   ]
  },
  {
   "cell_type": "code",
   "execution_count": null,
   "id": "55a02d0d",
   "metadata": {},
   "outputs": [],
   "source": [
    "categories=[]\n",
    "for x in competitions:\n",
    "    categories.append({\n",
    "        \"category_id\":x[\"category\"][\"id\"],\n",
    "        \"category_name\":x[\"category\"][\"name\"]\n",
    "    })"
   ]
  },
  {
   "cell_type": "code",
   "execution_count": null,
   "id": "bae6d388",
   "metadata": {},
   "outputs": [],
   "source": [
    "a=pd.DataFrame(categories)\n",
    "a"
   ]
  },
  {
   "cell_type": "code",
   "execution_count": null,
   "id": "0bf3695f",
   "metadata": {},
   "outputs": [],
   "source": [
    "competitions_table=[]\n",
    "for x in competitions:\n",
    "    competitions_table.append({\n",
    "        \"competition_id\":x[\"id\"],\n",
    "        \"competition_name\":x[\"name\"],\n",
    "        \"parent_id\":x.get(\"parent_id\"),\n",
    "        \"type\":x[\"type\"],\n",
    "        \"gender\":x[\"gender\"],\n",
    "        \n",
    "        \"category_id\":x[\"category\"][\"id\"],\n",
    "        \n",
    "            \n",
    "        })\n",
    "    \n",
    "        "
   ]
  },
  {
   "cell_type": "code",
   "execution_count": null,
   "id": "31128626",
   "metadata": {},
   "outputs": [],
   "source": [
    "b=pd.DataFrame(competitions_table)\n",
    "b"
   ]
  },
  {
   "cell_type": "code",
   "execution_count": null,
   "id": "0eea3627",
   "metadata": {},
   "outputs": [],
   "source": [
    "a.to_sql(name='category_table', con=engine, if_exists='replace', index=False)"
   ]
  },
  {
   "cell_type": "code",
   "execution_count": null,
   "id": "3b191092",
   "metadata": {},
   "outputs": [],
   "source": [
    "b.to_sql(name='competition_table', con=engine, if_exists='replace', index=False)"
   ]
  },
  {
   "cell_type": "code",
   "execution_count": null,
   "id": "c399ec93",
   "metadata": {},
   "outputs": [],
   "source": [
    "mycursor.execute(\"ALTER TABLE category_table MODIFY COLUMN category_id VARCHAR(50) PRIMARY KEY\")"
   ]
  },
  {
   "cell_type": "code",
   "execution_count": null,
   "id": "b663c3df",
   "metadata": {},
   "outputs": [],
   "source": [
    "mycursor.execute(\"SELECT category_id, COUNT(*) AS count FROM category_table GROUP BY category_id HAVING count > 1\")\n",
    "\n",
    "out=mycursor.fetchall()\n",
    "print(tabulate(out, headers=[i[0] for i in mycursor.description],  tablefmt='psql'))"
   ]
  },
  {
   "cell_type": "code",
   "execution_count": null,
   "id": "db6c6c66",
   "metadata": {},
   "outputs": [],
   "source": [
    "mycursor.execute(\"CREATE TABLE temp_table AS SELECT DISTINCT * FROM category_table\")"
   ]
  },
  {
   "cell_type": "code",
   "execution_count": null,
   "id": "2fddb85a",
   "metadata": {},
   "outputs": [],
   "source": [
    " mycursor.execute(\"DELETE FROM category_table\")"
   ]
  },
  {
   "cell_type": "code",
   "execution_count": null,
   "id": "b00f989c",
   "metadata": {},
   "outputs": [],
   "source": [
    "mycursor.execute(\"INSERT INTO category_table (category_id, category_name) SELECT category_id, category_name FROM temp_table\")"
   ]
  },
  {
   "cell_type": "code",
   "execution_count": null,
   "id": "242fdef5",
   "metadata": {},
   "outputs": [],
   "source": [
    "mycursor.execute(\"DROP TABLE temp_table\")"
   ]
  },
  {
   "cell_type": "code",
   "execution_count": null,
   "id": "6b22a5a9",
   "metadata": {},
   "outputs": [],
   "source": [
    "mycursor.execute(\"ALTER TABLE category_table MODIFY COLUMN category_id VARCHAR(50) PRIMARY KEY\")"
   ]
  },
  {
   "cell_type": "code",
   "execution_count": null,
   "id": "a662a511",
   "metadata": {},
   "outputs": [],
   "source": [
    "mycursor.execute(\"SELECT * FROM category_table\")\n",
    "out=mycursor.fetchall()\n",
    "print(tabulate(out, headers=[i[0] for i in mycursor.description],  tablefmt='psql'))\n"
   ]
  },
  {
   "cell_type": "code",
   "execution_count": null,
   "id": "ff04c301",
   "metadata": {},
   "outputs": [],
   "source": [
    "mycursor.execute(\"ALTER TABLE category_table MODIFY category_id VARCHAR(50)\")"
   ]
  },
  {
   "cell_type": "code",
   "execution_count": null,
   "id": "b2a768da",
   "metadata": {},
   "outputs": [],
   "source": [
    " mycursor.execute(\"ALTER TABLE category_table MODIFY category_name VARCHAR(100) NOT NULL\")"
   ]
  },
  {
   "cell_type": "code",
   "execution_count": null,
   "id": "40f045f5",
   "metadata": {},
   "outputs": [],
   "source": [
    " mycursor.execute(\"ALTER TABLE competition_table MODIFY category_id VARCHAR(50)\")"
   ]
  },
  {
   "cell_type": "code",
   "execution_count": null,
   "id": "ab1581b7",
   "metadata": {},
   "outputs": [],
   "source": [
    " mycursor.execute(\"ALTER TABLE competition_table MODIFY competition_id VARCHAR(50)\")"
   ]
  },
  {
   "cell_type": "code",
   "execution_count": null,
   "id": "468ce580",
   "metadata": {},
   "outputs": [],
   "source": [
    "mycursor.execute(\"ALTER TABLE competition_table MODIFY competition_name VARCHAR(100) NOT NULL\")"
   ]
  },
  {
   "cell_type": "code",
   "execution_count": null,
   "id": "b0d78a76",
   "metadata": {},
   "outputs": [],
   "source": [
    " mycursor.execute(\"ALTER TABLE competition_table ADD PRIMARY KEY (competition_id (50))\")"
   ]
  },
  {
   "cell_type": "code",
   "execution_count": null,
   "id": "2d4837a9",
   "metadata": {},
   "outputs": [],
   "source": [
    " mycursor.execute(\"ALTER TABLE competition_table MODIFY parent_id VARCHAR(50) NOT NULL\")"
   ]
  },
  {
   "cell_type": "code",
   "execution_count": null,
   "id": "d21eb0a6",
   "metadata": {},
   "outputs": [],
   "source": [
    " mycursor.execute(\"ALTER TABLE competition_table MODIFY type VARCHAR(20) NOT NULL\")"
   ]
  },
  {
   "cell_type": "code",
   "execution_count": null,
   "id": "fa00ac35",
   "metadata": {},
   "outputs": [],
   "source": [
    " mycursor.execute(\"ALTER TABLE competition_table MODIFY gender VARCHAR(10) NOT NULL\")"
   ]
  },
  {
   "cell_type": "code",
   "execution_count": null,
   "id": "52e88940",
   "metadata": {},
   "outputs": [],
   "source": [
    "mycursor.execute(\"ALTER TABLE competition_table ADD CONSTRAINT forkeya FOREIGN KEY (category_id) REFERENCES category_table(category_id)\")\n"
   ]
  },
  {
   "cell_type": "code",
   "execution_count": null,
   "id": "f2b30c5e",
   "metadata": {},
   "outputs": [],
   "source": [
    "mycursor.execute(\"SELECT *, COUNT(*)FROM competition_table GROUP BY competition_id HAVING COUNT(*) > 1\")\n",
    "out=mycursor.fetchall()\n",
    "print(tabulate(out, headers=[i[0] for i in mycursor.description],  tablefmt='psql'))"
   ]
  },
  {
   "cell_type": "code",
   "execution_count": null,
   "id": "f7ad0afc",
   "metadata": {},
   "outputs": [],
   "source": [
    "# 1.List all competitions along with their category name\n",
    "mycursor.execute(\"\"\"SELECT competition_table.competition_id, competition_table.competition_name, category_table.category_name \n",
    "                 FROM competition_table\n",
    "                 JOIN category_table ON category_table.category_id=competition_table.category_id\"\"\")\n",
    "out=mycursor.fetchall()\n",
    "print(tabulate(out, headers=[i[0] for i in mycursor.description],  tablefmt='psql'))    "
   ]
  },
  {
   "cell_type": "code",
   "execution_count": null,
   "id": "e5dabf37",
   "metadata": {},
   "outputs": [],
   "source": [
    "# 2.Count the number of competitions in each category\n",
    "mycursor.execute(\"SELECT category_id, COUNT(*) AS competition_count FROM competition_table GROUP BY category_id\")\n",
    "out=mycursor.fetchall()\n",
    "print(tabulate(out, headers=[i[0] for i in mycursor.description],  tablefmt='psql'))"
   ]
  },
  {
   "cell_type": "code",
   "execution_count": null,
   "id": "5164fd28",
   "metadata": {},
   "outputs": [],
   "source": [
    "# 3.Find all competitions of type 'doubles\n",
    "mycursor.execute(\"SELECT competition_id, competition_name,type FROM competition_table WHERE type='doubles'\")\n",
    "out=mycursor.fetchall()\n",
    "print(tabulate(out, headers=[i[0] for i in mycursor.description],  tablefmt='psql'))"
   ]
  },
  {
   "cell_type": "code",
   "execution_count": null,
   "id": "837024f6",
   "metadata": {},
   "outputs": [],
   "source": [
    "# 4.Get competitions that belong to a specific category (e.g., ITF Men)\n",
    "specific_category=input(\"Enter category name:\")\n",
    "query=\"\"\"\n",
    "    SELECT category_name, competition_id,competition_name\n",
    "    FROM competition_table comp\n",
    "    JOIN category_table cat ON comp.category_id = cat.category_id\n",
    "    WHERE cat.category_name = %s\"\"\"\n",
    "mycursor.execute(query,(specific_category,))\n",
    "out = mycursor.fetchall()\n",
    "print(tabulate(out, headers=[i[0] for i in mycursor.description], tablefmt='psql'))"
   ]
  },
  {
   "cell_type": "code",
   "execution_count": null,
   "id": "074ce6c9",
   "metadata": {},
   "outputs": [],
   "source": [
    "# 5.Identify parent competitions and their sub-competitions\n",
    "mycursor.execute(\"\"\"\n",
    "    SELECT category_table.category_id AS parent_competitions ,competition_table.competition_id AS sub_competitions\n",
    "    FROM competition_table\n",
    "    JOIN category_table ON competition_table.category_id = category_table.category_id\n",
    "\"\"\")\n",
    "\n",
    "out=mycursor.fetchall()\n",
    "print(tabulate(out, headers=[i[0] for i in mycursor.description],  tablefmt='psql'))\n"
   ]
  },
  {
   "cell_type": "code",
   "execution_count": null,
   "id": "702f8c2e",
   "metadata": {},
   "outputs": [],
   "source": [
    "# 6.Analyze the distribution of competition types by category\n",
    "mycursor.execute(\"\"\"SELECT category_table.category_id,competition_table.competition_name, competition_table.type\n",
    "                 FROM category_table \n",
    "                 JOIN competition_table ON category_table.category_id=competition_table.category_id\n",
    "                 \n",
    "\"\"\")\n",
    "out=mycursor.fetchall()\n",
    "print(tabulate(out, headers=[i[0] for i in mycursor.description],  tablefmt='psql'))"
   ]
  },
  {
   "cell_type": "code",
   "execution_count": null,
   "id": "3e0c6339",
   "metadata": {},
   "outputs": [],
   "source": [
    "#7.List all competitions with no parent (top-level competitions)\n",
    "mycursor.execute(\"\"\"\n",
    "    SELECT competition_id,competition_name,parent_id\n",
    "    FROM competition_table \n",
    "    WHERE parent_id = ''\n",
    "\"\"\")\n",
    "\n",
    "out = mycursor.fetchall()\n",
    "print(tabulate(out, headers=[i[0] for i in mycursor.description], tablefmt='psql'))\n"
   ]
  },
  {
   "cell_type": "code",
   "execution_count": null,
   "id": "f75b9ea0",
   "metadata": {},
   "outputs": [],
   "source": [
    "import requests\n",
    "url = \"https://api.sportradar.com/tennis/trial/v3/en/complexes.json?api_key=F9HPG6aTDbVhgSSPpmNfkY5tLzKwOAdbcjU9u23T\"\n",
    "headers = {\"accept\": \"application/json\"}\n",
    "response = requests.get(url, headers=headers)\n",
    "print(response.text)"
   ]
  },
  {
   "cell_type": "code",
   "execution_count": null,
   "id": "614f31a8",
   "metadata": {},
   "outputs": [],
   "source": [
    "\n",
    "data2=json.loads(response.text)\n",
    "data2"
   ]
  },
  {
   "cell_type": "code",
   "execution_count": null,
   "id": "3ed3aa0c",
   "metadata": {},
   "outputs": [],
   "source": [
    "complexes=data2[\"complexes\"]\n",
    "complexes"
   ]
  },
  {
   "cell_type": "code",
   "execution_count": null,
   "id": "9e466d8f",
   "metadata": {},
   "outputs": [],
   "source": [
    "complexes_table=[]\n",
    "for x in complexes:\n",
    "    complexes_table.append({\n",
    "        \"complex_id\":x[\"id\"],\n",
    "        \"complex_name\":x[\"name\"]\n",
    "    })\n",
    "c=pd.DataFrame(complexes_table)\n",
    "c"
   ]
  },
  {
   "cell_type": "code",
   "execution_count": null,
   "id": "e99d58cc",
   "metadata": {},
   "outputs": [],
   "source": [
    "venue_table = []\n",
    "\n",
    "for x in complexes:\n",
    "    venues = x.get(\"venues\",[]) \n",
    "    for venue in venues:\n",
    "        venue_table.append({\n",
    "            \"venue_id\": venue.get(\"id\"),\n",
    "            \"venue_name\": venue.get(\"name\"),\n",
    "            \"city_name\": venue.get(\"city_name\"),\n",
    "            \"country_name\": venue.get(\"country_name\"),\n",
    "            \"country_code\": venue.get(\"country_code\"),\n",
    "            \"timezone\": venue.get(\"timezone\"),\n",
    "            \"complex_id\": x.get(\"id\") \n",
    "        })\n",
    "\n",
    "d=pd.DataFrame(venue_table)\n",
    "d"
   ]
  },
  {
   "cell_type": "code",
   "execution_count": null,
   "id": "f5c239ff",
   "metadata": {},
   "outputs": [],
   "source": [
    "c.to_sql(name='complexes_table', con=engine, if_exists='append', index=False)"
   ]
  },
  {
   "cell_type": "code",
   "execution_count": null,
   "id": "72846176",
   "metadata": {},
   "outputs": [],
   "source": [
    "d.to_sql(name='venues_table', con=engine, if_exists='append', index=False)"
   ]
  },
  {
   "cell_type": "code",
   "execution_count": null,
   "id": "10b7fa11",
   "metadata": {},
   "outputs": [],
   "source": [
    "mycursor.execute(\"ALTER TABLE complexes_table MODIFY COLUMN complex_id VARCHAR(50)\")\n"
   ]
  },
  {
   "cell_type": "code",
   "execution_count": null,
   "id": "c913f95d",
   "metadata": {},
   "outputs": [],
   "source": [
    "mycursor.execute(\"ALTER TABLE complexes_table MODIFY COLUMN complex_name VARCHAR(100) NOT NULL;\")\n"
   ]
  },
  {
   "cell_type": "code",
   "execution_count": null,
   "id": "7b5ab785",
   "metadata": {},
   "outputs": [],
   "source": [
    "mycursor.execute(\"ALTER TABLE complexes_table ADD PRIMARY KEY (complex_id);\")"
   ]
  },
  {
   "cell_type": "code",
   "execution_count": null,
   "id": "cbdc4642",
   "metadata": {},
   "outputs": [],
   "source": [
    "mycursor.execute(\"ALTER TABLE venues_table MODIFY COLUMN venue_id VARCHAR(50) PRIMARY KEY;\")"
   ]
  },
  {
   "cell_type": "code",
   "execution_count": null,
   "id": "3f9eee13",
   "metadata": {},
   "outputs": [],
   "source": [
    "mycursor.execute(\"ALTER TABLE venues_table MODIFY COLUMN venue_name VARCHAR(100) NOT NULL;\")"
   ]
  },
  {
   "cell_type": "code",
   "execution_count": null,
   "id": "29afe88f",
   "metadata": {},
   "outputs": [],
   "source": [
    "mycursor.execute(\"ALTER TABLE venues_table MODIFY COLUMN city_name VARCHAR(100) NOT NULL;\")"
   ]
  },
  {
   "cell_type": "code",
   "execution_count": null,
   "id": "29c96480",
   "metadata": {},
   "outputs": [],
   "source": [
    "mycursor.execute(\"ALTER TABLE venues_table MODIFY COLUMN country_name VARCHAR(100) NOT NULL;\")"
   ]
  },
  {
   "cell_type": "code",
   "execution_count": null,
   "id": "20292769",
   "metadata": {},
   "outputs": [],
   "source": [
    "mycursor.execute(\"ALTER TABLE venues_table MODIFY COLUMN country_code CHAR(3) NOT NULL;\")"
   ]
  },
  {
   "cell_type": "code",
   "execution_count": null,
   "id": "7c1fc37b",
   "metadata": {},
   "outputs": [],
   "source": [
    "mycursor.execute(\"ALTER TABLE venues_table MODIFY COLUMN timezone VARCHAR(100) NOT NULL;\")"
   ]
  },
  {
   "cell_type": "code",
   "execution_count": null,
   "id": "b1b70f3b",
   "metadata": {},
   "outputs": [],
   "source": [
    "mycursor.execute(\"ALTER TABLE venues_table MODIFY COLUMN complex_id VARCHAR(50)\")"
   ]
  },
  {
   "cell_type": "code",
   "execution_count": null,
   "id": "22712f32",
   "metadata": {},
   "outputs": [],
   "source": [
    "mycursor.execute(\"ALTER TABLE venues_table ADD CONSTRAINT forkeyb FOREIGN KEY (complex_id) REFERENCES complexes_table (complex_id)\")\n",
    "\n"
   ]
  },
  {
   "cell_type": "code",
   "execution_count": null,
   "id": "bbcb0eb8",
   "metadata": {},
   "outputs": [],
   "source": [
    "# 1.List all venues along with their associated complex name\n",
    "mycursor.execute(\"SELECT venues_table.venue_name, complexes_table.complex_name FROM venues_table JOIN complexes_table\")\n",
    "out=mycursor.fetchall()\n",
    "print(tabulate(out, headers=[i[0] for i in mycursor.description],  tablefmt='psql'))"
   ]
  },
  {
   "cell_type": "code",
   "execution_count": null,
   "id": "c7683c3f",
   "metadata": {},
   "outputs": [],
   "source": [
    "\n",
    "# 2.Count the number of venues in each complex\n",
    "mycursor.execute(\"SELECT complex_id, count(venue_name) AS venue_count FROM venues_table GROUP BY complex_id\")\n",
    "out=mycursor.fetchall()\n",
    "print(tabulate(out, headers=[i[0] for i in mycursor.description],  tablefmt='psql'))"
   ]
  },
  {
   "cell_type": "code",
   "execution_count": null,
   "id": "1d2e94ee",
   "metadata": {},
   "outputs": [],
   "source": [
    "# 3.Get details of venues in a specific country (e.g., Chile)\n",
    "country=input(\"Enter country name:\")\n",
    "query=\"\"\"\n",
    "SELECT country_name ,venue_id, venue_name, city_name FROM venues_table WHERE country_name= %s\"\"\"\n",
    "mycursor.execute(query,(country,))\n",
    "out=mycursor.fetchall()\n",
    "print(tabulate(out, headers=[i[0] for i in mycursor.description],  tablefmt='psql'))"
   ]
  },
  {
   "cell_type": "code",
   "execution_count": null,
   "id": "82420a81",
   "metadata": {},
   "outputs": [],
   "source": [
    "# 4.Identify all venues and their timezones\n",
    "mycursor.execute(\"SELECT venue_id, venue_name ,timezone FROM venues_table\")\n",
    "out=mycursor.fetchall()\n",
    "print(tabulate(out, headers=[i[0] for i in mycursor.description],  tablefmt='psql'))"
   ]
  },
  {
   "cell_type": "code",
   "execution_count": null,
   "id": "4ff85c3c",
   "metadata": {},
   "outputs": [],
   "source": [
    "# 5.Find complexes that have more than one venue\n",
    "mycursor.execute(\"SELECT complex_id, COUNT(venue_id) AS venue_count FROM venues_table GROUP BY complex_id HAVING COUNT(venue_id) >1\")\n",
    "out=mycursor.fetchall()\n",
    "print(tabulate(out, headers=[i[0] for i in mycursor.description],  tablefmt='psql'))"
   ]
  },
  {
   "cell_type": "code",
   "execution_count": null,
   "id": "96153dd4",
   "metadata": {},
   "outputs": [],
   "source": [
    "# 6.List venues grouped by country\n",
    "mycursor.execute(\"SELECT country_name,venue_name, COUNT(venue_name) FROM venues_table GROUP BY country_name\")\n",
    "out=mycursor.fetchall()\n",
    "print(tabulate(out, headers=[i[0] for i in mycursor.description],  tablefmt='psql'))\n"
   ]
  },
  {
   "cell_type": "code",
   "execution_count": null,
   "id": "1b4c8c1f",
   "metadata": {},
   "outputs": [],
   "source": [
    "\n",
    "# 7.Find all venues for a specific complex (e.g., Nacional)\n",
    "complex=input(\"Enter complex name:\")\n",
    "query=\"\"\"\n",
    "SELECT complexes_table.complex_name, venues_table.venue_name \n",
    "FROM venues_table \n",
    "JOIN complexes_table ON complexes_table.complex_id=venues_table.complex_id\n",
    "WHERE complexes_table.complex_name=%s\"\"\"\n",
    "mycursor.execute(query,(complex,))\n",
    "out=mycursor.fetchall()\n",
    "print(tabulate(out, headers=[i[0] for i in mycursor.description],  tablefmt='psql'))"
   ]
  },
  {
   "cell_type": "code",
   "execution_count": null,
   "id": "98276d72",
   "metadata": {},
   "outputs": [],
   "source": [
    "import requests\n",
    "url = \"https://api.sportradar.com/tennis/trial/v3/en/double_competitors_rankings.json?api_key=F9HPG6aTDbVhgSSPpmNfkY5tLzKwOAdbcjU9u23T\"\n",
    "headers = {\"accept\": \"application/json\"}\n",
    "response = requests.get(url, headers=headers)\n",
    "print(response.text)"
   ]
  },
  {
   "cell_type": "code",
   "execution_count": null,
   "id": "91583d18",
   "metadata": {},
   "outputs": [],
   "source": [
    "data3=json.loads(response.text)\n",
    "data3"
   ]
  },
  {
   "cell_type": "code",
   "execution_count": null,
   "id": "bf1a26e4",
   "metadata": {},
   "outputs": [],
   "source": [
    "rankings=data3[\"rankings\"]\n",
    "rankings"
   ]
  },
  {
   "cell_type": "code",
   "execution_count": null,
   "id": "df780ae2",
   "metadata": {},
   "outputs": [],
   "source": [
    "rankings_table=[]\n",
    "for x in rankings:\n",
    "    competitor_rankings=x.get(\"competitor_rankings\",{})\n",
    "    for y in competitor_rankings:\n",
    "        rankings_table.append({\n",
    "            \n",
    "            \"rank\":y[\"rank\"],\n",
    "            \"movement\":y[\"movement\"],\n",
    "            \"points\":y[\"points\"],\n",
    "            \"competitions_played\":y[\"competitions_played\"],\n",
    "            \"competitor_id\":y[\"competitor\"][\"id\"]\n",
    "    })\n",
    "       \n",
    "e=pd.DataFrame(rankings_table)\n",
    "e\n"
   ]
  },
  {
   "cell_type": "code",
   "execution_count": null,
   "id": "8b3890a4",
   "metadata": {},
   "outputs": [],
   "source": [
    "competitor_table=[]\n",
    "for x in rankings:\n",
    "              competitor_rankings = x.get(\"competitor_rankings\", [])\n",
    "              for y in competitor_rankings:\n",
    "                      competitor=y.get(\"competitor\",[])\n",
    "                      for z in competitor:\n",
    "                                       competitor_table.append({\n",
    "                                      \"competitor_id\":competitor[\"id\"],\n",
    "                                      \"name\":competitor[\"name\"],            \n",
    "                                      \"country\":competitor[\"country\"],\n",
    "                                      \"country_code\":competitor.get(\"country_code\"),\n",
    "                                      \"abbreviation\":competitor[\"abbreviation\"]\n",
    "                                       })\n",
    "f=pd.DataFrame(competitor_table)\n",
    "f"
   ]
  },
  {
   "cell_type": "code",
   "execution_count": null,
   "id": "2e66d64c",
   "metadata": {},
   "outputs": [],
   "source": [
    "e.to_sql(name='rankings_table', con=engine, if_exists='append', index=False)\n"
   ]
  },
  {
   "cell_type": "code",
   "execution_count": null,
   "id": "abd189ee",
   "metadata": {},
   "outputs": [],
   "source": [
    "f.to_sql(name='competitor_table', con=engine, if_exists='append', index=False)"
   ]
  },
  {
   "cell_type": "code",
   "execution_count": null,
   "id": "95a5e5fd",
   "metadata": {},
   "outputs": [],
   "source": [
    "mycursor.execute(\"ALTER TABLE rankings_table ADD rank_id INT PRIMARY KEY AUTO_INCREMENT\")"
   ]
  },
  {
   "cell_type": "code",
   "execution_count": null,
   "id": "95f03b71",
   "metadata": {},
   "outputs": [],
   "source": [
    "mycursor.execute(\"ALTER TABLE rankings_table MODIFY COLUMN rank INT NOT NULL\")\n"
   ]
  },
  {
   "cell_type": "code",
   "execution_count": null,
   "id": "0e25babc",
   "metadata": {},
   "outputs": [],
   "source": [
    "mycursor.execute(\"ALTER TABLE rankings_table MODIFY COLUMN movement INT NOT NULL\")\n"
   ]
  },
  {
   "cell_type": "code",
   "execution_count": null,
   "id": "45c6a7fb",
   "metadata": {},
   "outputs": [],
   "source": [
    "mycursor.execute(\"ALTER TABLE rankings_table MODIFY COLUMN points INT NOT NULL\")\n"
   ]
  },
  {
   "cell_type": "code",
   "execution_count": null,
   "id": "fed51756",
   "metadata": {},
   "outputs": [],
   "source": [
    "mycursor.execute(\"ALTER TABLE rankings_table MODIFY COLUMN competitions_played INT NOT NULL\")\n",
    "\n"
   ]
  },
  {
   "cell_type": "code",
   "execution_count": null,
   "id": "5eac3690",
   "metadata": {},
   "outputs": [],
   "source": [
    "mycursor.execute(\"ALTER TABLE rankings_table MODIFY COLUMN competitor_id VARCHAR(50)\")\n",
    "\n"
   ]
  },
  {
   "cell_type": "code",
   "execution_count": null,
   "id": "e39fefa4",
   "metadata": {},
   "outputs": [],
   "source": [
    "mycursor.execute(\"ALTER TABLE rankings_table ADD CONSTRAINT forkeyc FOREIGN KEY (competitor_id) REFERENCES competitor_table(competitor_id)\")"
   ]
  },
  {
   "cell_type": "code",
   "execution_count": null,
   "id": "5ef04e6f",
   "metadata": {},
   "outputs": [],
   "source": [
    "mycursor.execute(\"ALTER TABLE competitor_table MODIFY COLUMN competitor_id VARCHAR(50) PRIMARY KEY\")"
   ]
  },
  {
   "cell_type": "code",
   "execution_count": null,
   "id": "d0b767f4",
   "metadata": {},
   "outputs": [],
   "source": [
    "mycursor.execute(\"SELECT COUNT(DISTINCT competitor_id) FROM competitor_table\")\n",
    "out=mycursor.fetchall()\n",
    "print(tabulate(out, headers=[i[0] for i in mycursor.description],  tablefmt='psql'))"
   ]
  },
  {
   "cell_type": "code",
   "execution_count": null,
   "id": "bcdb64f7",
   "metadata": {},
   "outputs": [],
   "source": [
    "mycursor.execute(\"CREATE TABLE temp_table LIKE competitor_table \")"
   ]
  },
  {
   "cell_type": "code",
   "execution_count": null,
   "id": "904a909b",
   "metadata": {},
   "outputs": [],
   "source": [
    "mycursor.execute(\"INSERT INTO temp_table SELECT DISTINCT * FROM competitor_table\")"
   ]
  },
  {
   "cell_type": "code",
   "execution_count": null,
   "id": "9a421bfc",
   "metadata": {},
   "outputs": [],
   "source": [
    "mycursor.execute(\"DELETE FROM competitor_table\")"
   ]
  },
  {
   "cell_type": "code",
   "execution_count": null,
   "id": "44d27a8d",
   "metadata": {},
   "outputs": [],
   "source": [
    "\n",
    "mycursor.execute(\"INSERT INTO competitor_table SELECT * FROM temp_table\")"
   ]
  },
  {
   "cell_type": "code",
   "execution_count": null,
   "id": "708cfe86",
   "metadata": {},
   "outputs": [],
   "source": [
    "mycursor.execute(\"DROP TABLE temp_table\")"
   ]
  },
  {
   "cell_type": "code",
   "execution_count": null,
   "id": "105c57a5",
   "metadata": {},
   "outputs": [],
   "source": [
    "mycursor.execute(\"ALTER TABLE competitor_table MODIFY COLUMN competitor_id VARCHAR(50) PRIMARY KEY\")"
   ]
  },
  {
   "cell_type": "code",
   "execution_count": null,
   "id": "3cb7386a",
   "metadata": {},
   "outputs": [],
   "source": [
    "mycursor.execute(\"ALTER TABLE competitor_table MODIFY COLUMN name VARCHAR(100)NOT NULL\")\n"
   ]
  },
  {
   "cell_type": "code",
   "execution_count": null,
   "id": "bd96450d",
   "metadata": {},
   "outputs": [],
   "source": [
    "mycursor.execute(\"ALTER TABLE competitor_table MODIFY COLUMN country VARCHAR(100)NOT NULL\")\n"
   ]
  },
  {
   "cell_type": "code",
   "execution_count": null,
   "id": "94302d34",
   "metadata": {},
   "outputs": [],
   "source": [
    "mycursor.execute(\"ALTER TABLE competitor_table MODIFY COLUMN country_code CHAR(3)NOT NULL\")\n"
   ]
  },
  {
   "cell_type": "code",
   "execution_count": null,
   "id": "f615065c",
   "metadata": {},
   "outputs": [],
   "source": [
    "mycursor.execute(\"ALTER TABLE competitor_table MODIFY COLUMN abbreviation VARCHAR(10)NOT NULL\")"
   ]
  },
  {
   "cell_type": "code",
   "execution_count": null,
   "id": "3b148e01",
   "metadata": {},
   "outputs": [],
   "source": [
    "# 1.Get all competitors with their rank and points.\n",
    "mycursor.execute(\"SELECT competitor_id, rank, points FROM rankings_table \")\n",
    "out=mycursor.fetchall()\n",
    "print(tabulate(out, headers=[i[0] for i in mycursor.description],  tablefmt='psql'))"
   ]
  },
  {
   "cell_type": "code",
   "execution_count": null,
   "id": "2bd9be12",
   "metadata": {},
   "outputs": [],
   "source": [
    "# 2.Find competitors ranked in the top 5\n",
    "mycursor.execute(\"SELECT competitor_id, rank FROM rankings_table ORDER BY rank LIMIT 5 \")\n",
    "out=mycursor.fetchall()\n",
    "print(tabulate(out, headers=[i[0] for i in mycursor.description],  tablefmt='psql')) \n"
   ]
  },
  {
   "cell_type": "code",
   "execution_count": null,
   "id": "769abaf5",
   "metadata": {},
   "outputs": [],
   "source": [
    "# 3.List competitors with no rank movement (stable rank)\n",
    "mycursor.execute(\"\"\"\n",
    "    SELECT competitor_id,movement\n",
    "    FROM rankings_table\n",
    "    WHERE movement = 0\n",
    "\"\"\")\n",
    "out=mycursor.fetchall()\n",
    "print(tabulate(out, headers=[i[0] for i in mycursor.description],  tablefmt='psql'))"
   ]
  },
  {
   "cell_type": "code",
   "execution_count": null,
   "id": "0f5da2d3",
   "metadata": {},
   "outputs": [],
   "source": [
    "# 4.Get the total points of competitors from a specific country (e.g., Croatia)\n",
    "country = input(\"Enter country name: \")\n",
    "query = \"\"\"\n",
    "    SELECT c.country, SUM(r.points) AS total_points\n",
    "    FROM rankings_table r\n",
    "    JOIN competitor_table c ON r.competitor_id = c.competitor_id\n",
    "    WHERE c.country = %s\n",
    "    GROUP BY c.country\n",
    "\"\"\"\n",
    "mycursor.execute(query, (country,))\n",
    "out = mycursor.fetchall()\n",
    "\n",
    "print(tabulate(out, headers=[i[0] for i in mycursor.description], tablefmt='psql'))\n"
   ]
  },
  {
   "cell_type": "code",
   "execution_count": null,
   "id": "cd796442",
   "metadata": {},
   "outputs": [],
   "source": [
    "# 5.Count the number of competitors per country\n",
    "mycursor.execute(\"\"\"SELECT country, COUNT(competitor_id) as competitor_count\n",
    "                 FROM competitor_table\n",
    "                 GROUP BY country\n",
    "                 ORDER BY competitor_count \"\"\")\n",
    "out = mycursor.fetchall()\n",
    "print(tabulate(out, headers=[i[0] for i in mycursor.description], tablefmt='psql'))"
   ]
  },
  {
   "cell_type": "code",
   "execution_count": null,
   "id": "f540394e",
   "metadata": {},
   "outputs": [],
   "source": [
    "# 6.Find competitors with the highest points in the current week\n",
    "mycursor.execute(\"\"\"SELECT competitor_table.competitor_id, competitor_table.name, rankings_table.points\n",
    "                 FROM competitor_table\n",
    "                 JOIN rankings_table ON competitor_table.competitor_id=rankings_table.competitor_id \"\"\")\n",
    "out = mycursor.fetchall()\n",
    "print(tabulate(out, headers=[i[0] for i in mycursor.description], tablefmt='psql'))"
   ]
  }
 ],
 "metadata": {
  "kernelspec": {
   "display_name": "base",
   "language": "python",
   "name": "python3"
  },
  "language_info": {
   "codemirror_mode": {
    "name": "ipython",
    "version": 3
   },
   "file_extension": ".py",
   "mimetype": "text/x-python",
   "name": "python",
   "nbconvert_exporter": "python",
   "pygments_lexer": "ipython3",
   "version": "3.12.7"
  }
 },
 "nbformat": 4,
 "nbformat_minor": 5
}
